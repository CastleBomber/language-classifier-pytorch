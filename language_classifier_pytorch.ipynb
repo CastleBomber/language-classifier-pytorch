{
  "nbformat": 4,
  "nbformat_minor": 0,
  "metadata": {
    "colab": {
      "provenance": []
    },
    "kernelspec": {
      "name": "python3",
      "display_name": "Python 3"
    },
    "language_info": {
      "name": "python"
    }
  },
  "cells": [
    {
      "cell_type": "code",
      "execution_count": 2,
      "metadata": {
        "id": "v4yIhZd4j1V7"
      },
      "outputs": [],
      "source": [
        "# !pip install -Uqq fastai\n",
        "# from fastai.vision.all import *"
      ]
    },
    {
      "cell_type": "code",
      "source": [
        "!pip install -Uqq fastai\n",
        "from fastai.text.all import *"
      ],
      "metadata": {
        "id": "1StwfRM0uos9"
      },
      "execution_count": 3,
      "outputs": []
    },
    {
      "cell_type": "code",
      "source": [
        "languagePath = untar_data(URLS.Languages)"
      ],
      "metadata": {
        "id": "1WF-tm6SvqWY"
      },
      "execution_count": null,
      "outputs": []
    }
  ]
}