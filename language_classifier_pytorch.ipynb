{
  "nbformat": 4,
  "nbformat_minor": 0,
  "metadata": {
    "colab": {
      "provenance": []
    },
    "kernelspec": {
      "name": "python3",
      "display_name": "Python 3"
    },
    "language_info": {
      "name": "python"
    }
  },
  "cells": [
    {
      "cell_type": "code",
      "source": [
        "from google.colab import drive\n",
        "import os\n",
        "\n",
        "#drive.mount('/content/drive')\n",
        "\n",
        "# Define specific path where data is stored\n",
        "base_path = '/content/drive/MyDrive/Colab Notebooks/language-classifier/language-datasets'\n",
        "\n",
        "# Check if folders exist and print confirmation\n",
        "if os.path.exists(f'{base_path}/programming-languages') and os.path.exists(f'{base_path}/human-languages'):\n",
        "  print(f\"Directories exist at: {base_path}\")\n",
        "else:\n",
        "  print(\"One or more directories do not exist. Please check the paths.\")"
      ],
      "metadata": {
        "colab": {
          "base_uri": "https://localhost:8080/"
        },
        "id": "rT8d0W86Z4Xs",
        "outputId": "f444bc2b-22c1-48e1-a852-a031520df63e"
      },
      "execution_count": null,
      "outputs": [
        {
          "output_type": "stream",
          "name": "stdout",
          "text": [
            "Directories exist at: /content/drive/MyDrive/Colab Notebooks/language-classifier/language-datasets\n"
          ]
        }
      ]
    }
  ]
}